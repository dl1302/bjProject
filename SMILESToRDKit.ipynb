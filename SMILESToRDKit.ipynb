{
 "cells": [
  {
   "cell_type": "code",
   "execution_count": 1,
   "id": "5b63dd03",
   "metadata": {},
   "outputs": [],
   "source": [
    "import pandas as pd\n",
    "import pubchempy as pub\n",
    "from rdkit import Chem\n",
    "from rdkit.Chem import Draw\n",
    "from rdkit import DataStructs\n",
    "from rdkit.Chem import Descriptors\n",
    "from rdkit.Chem.Draw import IPythonConsole\n",
    "from rdkit.Chem import AllChem\n",
    "import numpy as np\n",
    "from rdkit.Chem import rdMolDescriptors\n",
    "from rdkit.Chem.rdMolDescriptors import CalcMolFormula\n",
    "#from mordred import AtomCount as atomcount\n",
    "#import collections as c\n",
    "import matplotlib\n",
    "import matplotlib.pyplot as plt\n",
    "import rdkit.Chem.Crippen as crip\n",
    "from rdkit.Chem import rdPartialCharges\n",
    "from rdkit.Chem import rdqueries\n",
    "from rdkit.Chem import rdEHTTools\n",
    "from rdkit.Chem import rdmolfiles\n",
    "from rdkit.Chem import rdchem\n",
    "from rdkit.Chem.rdchem import Atom\n",
    "def getRdkitPortionFromSmiles(smile):\n",
    "    m = Chem.MolFromSmiles(smile)\n",
    "    numHeavyAtoms = m.GetNumAtoms()\n",
    "    tmp = AllChem.Compute2DCoords(m)\n",
    "    Draw.MolToImage(m)\n",
    "    m2 = Chem.AddHs(m)\n",
    "    AllChem.EmbedMolecule(m2)\n",
    "    AllChem.MMFFOptimizeMolecule(m2)\n",
    "    Draw.MolToImage(m2)\n",
    "    c = m2.GetConformers()[0]\n",
    "    coord = c.GetPositions()\n",
    "    #print(coord)\n",
    "    block = Chem.MolToMolBlock(m2)\n",
    "    #print(block)\n",
    "    coords=coord.tolist()\n",
    "    numAtoms = len(coords)\n",
    "    #print(numAtoms)\n",
    "    atoms = m2.GetAtoms()\n",
    "    symbols = list()\n",
    "    for i in range(numAtoms):\n",
    "        symbols.insert(i,Atom.GetSymbol(atoms[i]))\n",
    "    #print(symbols)\n",
    "    return([coords,symbols,numAtoms,numHeavyAtoms])"
   ]
  },
  {
   "cell_type": "code",
   "execution_count": 2,
   "id": "ef311d08",
   "metadata": {},
   "outputs": [],
   "source": [
    "def writeFile(st,toWrite):\n",
    "    path = st + '.txt'\n",
    "    openfile = open(path, 'w')\n",
    "    for item in toWrite:\n",
    "        openfile.write(str(item))\n",
    "        openfile.write('\\n')\n",
    "    openfile.close()"
   ]
  },
  {
   "cell_type": "code",
   "execution_count": 3,
   "id": "70cfe255",
   "metadata": {},
   "outputs": [],
   "source": [
    "iStr = \"C:\\\\Users\\\\danny\\\\helloWorld\\\\CG\"\n",
    "toReturn = getRdkitPortionFromSmiles('C1=CC2=C(C(=C1)OCC(COC3=CC=CC4=C3C(=O)C=C(O4)C(=O)[O-])O)C(=O)C=C(O2)C(=O)[O-]')\n",
    "lists = []\n",
    "ref = toReturn.pop(0)\n",
    "for i in range(toReturn[1]):\n",
    "    toReturn.append(ref[i])\n",
    "st = iStr\n",
    "writeFile(st,toReturn)"
   ]
  },
  {
   "cell_type": "code",
   "execution_count": null,
   "id": "a686d37d",
   "metadata": {},
   "outputs": [],
   "source": []
  }
 ],
 "metadata": {
  "kernelspec": {
   "display_name": "Python 3 (ipykernel)",
   "language": "python",
   "name": "python3"
  },
  "language_info": {
   "codemirror_mode": {
    "name": "ipython",
    "version": 3
   },
   "file_extension": ".py",
   "mimetype": "text/x-python",
   "name": "python",
   "nbconvert_exporter": "python",
   "pygments_lexer": "ipython3",
   "version": "3.10.9"
  }
 },
 "nbformat": 4,
 "nbformat_minor": 5
}
